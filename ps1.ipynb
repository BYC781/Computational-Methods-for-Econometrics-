{
 "cells": [
  {
   "cell_type": "code",
   "execution_count": 2,
   "metadata": {},
   "outputs": [],
   "source": [
    "import numpy as np\n",
    "\n",
    "R = 100\n",
    "N = 400\n",
    "X1 = np.random.normal(0, 1, size=(N, R))\n",
    "X2 = np.random.chisquare(1, size=(N, R))\n",
    "U1 = np.random.gumbel(size=(N, R))\n",
    "U2 = np.random.gumbel(size=(N, R))\n",
    "Y = (X1 + U1) > (X2 + U2)\n",
    "Y = Y.astype(int)\n",
    "\n",
    "beta_seq = np.zeros((R, 2), dtype=float)\n",
    "for i in range(R):\n",
    "    def gradient(beta):\n",
    "        p = np.exp(beta[0] * X1[:, i] - beta[1] * X2[:, i]) / (1 + np.exp(beta[0] * X1[:, i] - beta[1] * X2[:, i]))\n",
    "        g1 = np.sum(Y[:, i] * X1[:, i] - X1[:, i] * p)\n",
    "        g2 = np.sum(Y[:, i] * X2[:, i] - X2[:, i] * p)\n",
    "        return np.array([g1, g2])\n",
    "\n",
    "    beta = np.zeros(2)\n",
    "    tol = 1e-6\n",
    "    maxiter = 100\n",
    "    for j in range(maxiter):\n",
    "        g = gradient(beta)\n",
    "        BHHH = np.outer(g, g)\n",
    "        if np.max(np.abs(g)) < tol:\n",
    "            break\n",
    "        beta += np.linalg.solve(BHHH, g)\n",
    "    beta_seq[i, 0] = beta[0]\n",
    "    beta_seq[i, 1] = beta[1]\n"
   ]
  },
  {
   "cell_type": "code",
   "execution_count": 10,
   "metadata": {},
   "outputs": [
    {
     "data": {
      "text/plain": [
       "-0.23179922373729095"
      ]
     },
     "execution_count": 10,
     "metadata": {},
     "output_type": "execute_result"
    }
   ],
   "source": [
    "beta_seq[:,1].mean()"
   ]
  },
  {
   "cell_type": "code",
   "execution_count": 11,
   "metadata": {},
   "outputs": [
    {
     "data": {
      "text/plain": [
       "-0.5203241028621653"
      ]
     },
     "execution_count": 11,
     "metadata": {},
     "output_type": "execute_result"
    }
   ],
   "source": [
    "beta_seq[:,0].mean()"
   ]
  }
 ],
 "metadata": {
  "kernelspec": {
   "display_name": "Python 3",
   "language": "python",
   "name": "python3"
  },
  "language_info": {
   "codemirror_mode": {
    "name": "ipython",
    "version": 3
   },
   "file_extension": ".py",
   "mimetype": "text/x-python",
   "name": "python",
   "nbconvert_exporter": "python",
   "pygments_lexer": "ipython3",
   "version": "3.10.6"
  },
  "orig_nbformat": 4,
  "vscode": {
   "interpreter": {
    "hash": "aee8b7b246df8f9039afb4144a1f6fd8d2ca17a180786b69acc140d282b71a49"
   }
  }
 },
 "nbformat": 4,
 "nbformat_minor": 2
}
